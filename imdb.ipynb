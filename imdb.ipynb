{
 "cells": [
  {
   "cell_type": "code",
   "execution_count": 1,
   "metadata": {
    "cell_id": "00000-76d04b52-e88a-424a-adf5-0fe83a4d32e9",
    "deepnote_cell_type": "code",
    "execution_millis": 3,
    "execution_start": 1607683534762,
    "output_cleared": false,
    "source_hash": "dc5633d3",
    "tags": []
   },
   "outputs": [
    {
     "name": "stdout",
     "output_type": "stream",
     "text": [
      "Welcome to the RavenClaw House !!\n"
     ]
    }
   ],
   "source": [
    "print(\"Welcome to the RavenClaw House !!\")"
   ]
  },
  {
   "cell_type": "markdown",
   "metadata": {
    "cell_id": "00002-6dddaaff-97c5-478d-9a64-3cc14b9a109f",
    "deepnote_cell_type": "markdown",
    "tags": []
   },
   "source": [
    "# Business Problem : \n",
    "\n",
    "Scrape the top 100 movies from IMBD's Database\n",
    "display :\n",
    "- \n",
    "- MOVIE NAME\n",
    "- DURATION\n",
    "- DESCRIBTION \n",
    "- GENRE\n",
    "- DIRECTOR NAME\n",
    "- RATING \n",
    "- STARS \n",
    "- FILMING DATE\n",
    "\n",
    "MORE TASKS:\n",
    "- \n",
    "- BUILD A PANDAS DATAFRAME\n",
    "-- NORMARLIZED MAX_MIN(RATING / DURATION (minutes)\n",
    "-- NORMARLIZED 0_1(RATING/ TIME TO FILM)\n",
    "\n",
    "VISUALIZATION OF:\n",
    "-\n",
    "- RATING MOVIES / BY YEAR OF RELEASE\n",
    "- No OF MOVIES IN TOP 100 / DIRETOR\n",
    "- No OF MOVIES IN TOP 100 / ACTOR\n",
    "\n"
   ]
  },
  {
   "cell_type": "code",
   "execution_count": 2,
   "metadata": {
    "cell_id": "00002-4d347f58-76bb-4e03-a5b5-0f0bd7a354c0",
    "deepnote_cell_type": "code",
    "execution_millis": 1,
    "execution_start": 1607683790678,
    "output_cleared": false,
    "source_hash": "fa8cb4dd",
    "tags": []
   },
   "outputs": [
    {
     "name": "stdout",
     "output_type": "stream",
     "text": [
      "let the fund begin ... casting   Alhomora (Al-Loh-Huh-Mohr-Uh).\n"
     ]
    }
   ],
   "source": [
    "first_spell = \"Alhomora (Al-Loh-Huh-Mohr-Uh).\"\n",
    "print(\"let the fund begin ... casting  \", first_spell)"
   ]
  },
  {
   "cell_type": "code",
   "execution_count": 186,
   "metadata": {
    "cell_id": "00003-3ab9da7f-909f-4015-a463-94bb7ce77620",
    "deepnote_cell_type": "code",
    "execution_millis": 1,
    "execution_start": 1607703486636,
    "output_cleared": false,
    "source_hash": "b34a4268",
    "tags": []
   },
   "outputs": [],
   "source": [
    "from bs4 import BeautifulSoup\n",
    "import urllib.request as urllib2\n",
    "import pandas as pd\n",
    "import numpy as np\n",
    "import csv\n",
    "import requests\n",
    "from sklearn import preprocessing\n",
    "magick_stick = \"https://www.imdb.com/list/ls091520106/\"\n"
   ]
  },
  {
   "cell_type": "code",
   "execution_count": 187,
   "metadata": {
    "cell_id": "00003-59cb102c-7a37-47c5-a16c-3e24edf35458",
    "deepnote_cell_type": "code",
    "execution_millis": 2999,
    "execution_start": 1607703493161,
    "output_cleared": false,
    "source_hash": "e937e070",
    "tags": []
   },
   "outputs": [],
   "source": [
    "# geting the data\n",
    "get_page = requests.get(magick_stick)\n",
    "soup = BeautifulSoup(get_page.text)\n",
    "# soup\n",
    "get_movie_container = soup.find(\"div\", {\"class\": \"lister\"})\n",
    "\n",
    "# print(get_movie_container.get_text())\n"
   ]
  },
  {
   "cell_type": "code",
   "execution_count": 56,
   "metadata": {
    "cell_id": "00003-bcb86231-e2cd-44ce-9be3-5b6dca8b46ff",
    "deepnote_cell_type": "code",
    "execution_millis": 2,
    "execution_start": 1607689833120,
    "output_cleared": false,
    "source_hash": "b623e53d",
    "tags": []
   },
   "outputs": [],
   "source": []
  },
  {
   "cell_type": "code",
   "execution_count": 188,
   "metadata": {
    "cell_id": "00004-affe5932-5d35-45fc-bdf2-889058abd1a3",
    "deepnote_cell_type": "code",
    "execution_millis": 237,
    "execution_start": 1607703498933,
    "output_cleared": false,
    "source_hash": "f15ff29c",
    "tags": []
   },
   "outputs": [],
   "source": [
    "\n",
    "\n",
    "get_file = open('content_data.csv', 'w')\n",
    "file_writer = csv.writer(get_file)\n",
    "file_writer.writerow(['MovieTtile', 'Description', 'Duration', 'Gendre', 'DirectorsName', 'Ratings', 'Stars', 'FilmingDate'])\n",
    "# fuck_off_beautifulsoup = get_movie_container.find('div', {'class': 'lister-item-content'}).a.text.strip()\n",
    "\n",
    "# fuck_off_beautifulsoup\n",
    "\n",
    "get_this = soup.find(\"div\", {\"class\": \"lister\"})\n",
    "\n",
    "get_movie_container = soup.find_all(\"div\", {\"class\": \"lister-item-content\"})\n",
    "#print(get_movie_container)\n",
    "num=soup.find_all(\"span\", {\"class\": \"lister-item-index unbold text-primary\"})\n",
    "for item in get_movie_container:\n",
    "    s=item.get_text().strip()\n",
    "    lst=s.split('\\n')\n",
    "    lst2=[i for i in lst if i!=\"\"]\n",
    "    # print(lst2)\n",
    "    # print(\"number={0},title={1},year of release={2},duration={3},genre={4},rating={5},Description={6},Director={7},Stars={8}\".format(lst2[0],lst2[1],lst2[2],lst2[5],lst2[7],lst2[8],lst2[37],lst2[39],lst2[41:-4]))\n",
    "    MovieTtile = lst2[1]\n",
    "    Description = lst2[37]\n",
    "    Duration = lst2[5]\n",
    "    Gendre = lst2[7]\n",
    "    DirectorsName = lst2[39]\n",
    "    Ratings = lst2[8]\n",
    "    Stars = lst2[41:-4]\n",
    "    FilmingDate = lst2[2]\n",
    "    file_writer.writerow([MovieTtile,Description, Duration, Gendre, DirectorsName, Ratings, Stars, FilmingDate])\n",
    "    \n",
    "get_file.close()\n",
    "\n",
    "\n",
    "\n",
    "\n",
    "\n",
    "\n"
   ]
  },
  {
   "cell_type": "code",
   "execution_count": 189,
   "metadata": {
    "cell_id": "00004-001e16bc-2bca-4abd-b590-b944463f2eb0",
    "deepnote_cell_type": "code",
    "execution_millis": 44,
    "execution_start": 1607703504358,
    "output_cleared": false,
    "source_hash": "66c819c7",
    "tags": []
   },
   "outputs": [
    {
     "data": {
      "application/vnd.deepnote.dataframe.v2+json": {
       "column_count": 8,
       "columns": [
        {
         "dtype": "object",
         "name": "MovieTtile",
         "stats": {
          "categories": [
           {
            "count": 1,
            "name": "The Shawshank Redemption"
           },
           {
            "count": 1,
            "name": "The Godfather"
           },
           {
            "count": 3,
            "name": "3 others"
           }
          ],
          "nan_count": 0,
          "unique_count": 5
         }
        },
        {
         "dtype": "object",
         "name": "Description",
         "stats": {
          "categories": [
           {
            "count": 1,
            "name": "    Two imprisoned men bond over a number of years, finding solace and eventual redemption through acts of common decency."
           },
           {
            "count": 1,
            "name": "    The aging patriarch of an organized crime dynasty transfers control of his clandestine empire to his reluctant son."
           },
           {
            "count": 3,
            "name": "3 others"
           }
          ],
          "nan_count": 0,
          "unique_count": 5
         }
        },
        {
         "dtype": "object",
         "name": "Duration",
         "stats": {
          "categories": [
           {
            "count": 1,
            "name": "142 min"
           },
           {
            "count": 1,
            "name": "175 min"
           },
           {
            "count": 3,
            "name": "3 others"
           }
          ],
          "nan_count": 0,
          "unique_count": 5
         }
        },
        {
         "dtype": "object",
         "name": "Gendre",
         "stats": {
          "categories": [
           {
            "count": 3,
            "name": "Crime, Drama            "
           },
           {
            "count": 1,
            "name": "Drama            "
           },
           {
            "count": 1,
            "name": "Action, Crime, Drama            "
           }
          ],
          "nan_count": 0,
          "unique_count": 3
         }
        },
        {
         "dtype": "object",
         "name": "DirectorsName",
         "stats": {
          "categories": [
           {
            "count": 2,
            "name": "Francis Ford Coppola"
           },
           {
            "count": 1,
            "name": "Frank Darabont"
           },
           {
            "count": 2,
            "name": "2 others"
           }
          ],
          "nan_count": 0,
          "unique_count": 4
         }
        },
        {
         "dtype": "float64",
         "name": "Ratings",
         "stats": {
          "histogram": [
           {
            "bin_end": 9.03,
            "bin_start": 9,
            "count": 3
           },
           {
            "bin_end": 9.06,
            "bin_start": 9.03,
            "count": 0
           },
           {
            "bin_end": 9.09,
            "bin_start": 9.06,
            "count": 0
           },
           {
            "bin_end": 9.120000000000001,
            "bin_start": 9.09,
            "count": 0
           },
           {
            "bin_end": 9.15,
            "bin_start": 9.120000000000001,
            "count": 0
           },
           {
            "bin_end": 9.18,
            "bin_start": 9.15,
            "count": 0
           },
           {
            "bin_end": 9.21,
            "bin_start": 9.18,
            "count": 1
           },
           {
            "bin_end": 9.24,
            "bin_start": 9.21,
            "count": 0
           },
           {
            "bin_end": 9.270000000000001,
            "bin_start": 9.24,
            "count": 0
           },
           {
            "bin_end": 9.3,
            "bin_start": 9.270000000000001,
            "count": 1
           }
          ],
          "max": 9.3,
          "min": 9,
          "nan_count": 0,
          "unique_count": 3
         }
        },
        {
         "dtype": "object",
         "name": "Stars",
         "stats": {
          "categories": [
           {
            "count": 1,
            "name": "['    Stars:', 'Tim Robbins, ', 'Morgan Freeman, ', 'Bob Gunton, ', 'William Sadler']"
           },
           {
            "count": 1,
            "name": "['    Stars:', 'Marlon Brando, ', 'Al Pacino, ', 'James Caan, ', 'Diane Keaton']"
           },
           {
            "count": 3,
            "name": "3 others"
           }
          ],
          "nan_count": 0,
          "unique_count": 5
         }
        },
        {
         "dtype": "object",
         "name": "FilmingDate",
         "stats": {
          "categories": [
           {
            "count": 1,
            "name": "(1994)"
           },
           {
            "count": 1,
            "name": "(1972)"
           },
           {
            "count": 3,
            "name": "3 others"
           }
          ],
          "nan_count": 0,
          "unique_count": 5
         }
        },
        {
         "dtype": "int64",
         "name": "_deepnote_index_column"
        }
       ],
       "row_count": 5,
       "rows_bottom": null,
       "rows_top": [
        {
         "Description": "    Two imprisoned men bond over a number of years, finding solace and eventual redemption through acts of common decency.",
         "DirectorsName": "Frank Darabont",
         "Duration": "142 min",
         "FilmingDate": "(1994)",
         "Gendre": "Drama            ",
         "MovieTtile": "The Shawshank Redemption",
         "Ratings": 9.3,
         "Stars": "['    Stars:', 'Tim Robbins, ', 'Morgan Freeman, ', 'Bob Gunton, ', 'William Sadler']",
         "_deepnote_index_column": 0
        },
        {
         "Description": "    The aging patriarch of an organized crime dynasty transfers control of his clandestine empire to his reluctant son.",
         "DirectorsName": "Francis Ford Coppola",
         "Duration": "175 min",
         "FilmingDate": "(1972)",
         "Gendre": "Crime, Drama            ",
         "MovieTtile": "The Godfather",
         "Ratings": 9.2,
         "Stars": "['    Stars:', 'Marlon Brando, ', 'Al Pacino, ', 'James Caan, ', 'Diane Keaton']",
         "_deepnote_index_column": 1
        },
        {
         "Description": "    The early life and career of Vito Corleone in 1920s New York City is portrayed, while his son, Michael, expands and tightens his grip on the family crime syndicate.",
         "DirectorsName": "Francis Ford Coppola",
         "Duration": "202 min",
         "FilmingDate": "(1974)",
         "Gendre": "Crime, Drama            ",
         "MovieTtile": "The Godfather: Part II",
         "Ratings": 9,
         "Stars": "['    Stars:', 'Al Pacino, ', 'Robert De Niro, ', 'Robert Duvall, ', 'Diane Keaton']",
         "_deepnote_index_column": 2
        },
        {
         "Description": "    When the menace known as the Joker wreaks havoc and chaos on the people of Gotham, Batman must accept one of the greatest psychological and physical tests of his ability to fight injustice.",
         "DirectorsName": "Christopher Nolan",
         "Duration": "152 min",
         "FilmingDate": "(2008)",
         "Gendre": "Action, Crime, Drama            ",
         "MovieTtile": "The Dark Knight",
         "Ratings": 9,
         "Stars": "['    Stars:', 'Christian Bale, ', 'Heath Ledger, ', 'Aaron Eckhart, ', 'Michael Caine']",
         "_deepnote_index_column": 3
        },
        {
         "Description": "    A jury holdout attempts to prevent a miscarriage of justice by forcing his colleagues to reconsider the evidence.",
         "DirectorsName": "Sidney Lumet",
         "Duration": "96 min",
         "FilmingDate": "(1957)",
         "Gendre": "Crime, Drama            ",
         "MovieTtile": "12 Angry Men",
         "Ratings": 9,
         "Stars": "['    Stars:', 'Henry Fonda, ', 'Lee J. Cobb, ', 'Martin Balsam, ', 'John Fiedler']",
         "_deepnote_index_column": 4
        }
       ]
      },
      "text/html": [
       "<div>\n",
       "<style scoped>\n",
       "    .dataframe tbody tr th:only-of-type {\n",
       "        vertical-align: middle;\n",
       "    }\n",
       "\n",
       "    .dataframe tbody tr th {\n",
       "        vertical-align: top;\n",
       "    }\n",
       "\n",
       "    .dataframe thead th {\n",
       "        text-align: right;\n",
       "    }\n",
       "</style>\n",
       "<table border=\"1\" class=\"dataframe\">\n",
       "  <thead>\n",
       "    <tr style=\"text-align: right;\">\n",
       "      <th></th>\n",
       "      <th>MovieTtile</th>\n",
       "      <th>Description</th>\n",
       "      <th>Duration</th>\n",
       "      <th>Gendre</th>\n",
       "      <th>DirectorsName</th>\n",
       "      <th>Ratings</th>\n",
       "      <th>Stars</th>\n",
       "      <th>FilmingDate</th>\n",
       "    </tr>\n",
       "  </thead>\n",
       "  <tbody>\n",
       "    <tr>\n",
       "      <th>0</th>\n",
       "      <td>The Shawshank Redemption</td>\n",
       "      <td>Two imprisoned men bond over a number of y...</td>\n",
       "      <td>142 min</td>\n",
       "      <td>Drama</td>\n",
       "      <td>Frank Darabont</td>\n",
       "      <td>9.3</td>\n",
       "      <td>['    Stars:', 'Tim Robbins, ', 'Morgan Freema...</td>\n",
       "      <td>(1994)</td>\n",
       "    </tr>\n",
       "    <tr>\n",
       "      <th>1</th>\n",
       "      <td>The Godfather</td>\n",
       "      <td>The aging patriarch of an organized crime ...</td>\n",
       "      <td>175 min</td>\n",
       "      <td>Crime, Drama</td>\n",
       "      <td>Francis Ford Coppola</td>\n",
       "      <td>9.2</td>\n",
       "      <td>['    Stars:', 'Marlon Brando, ', 'Al Pacino, ...</td>\n",
       "      <td>(1972)</td>\n",
       "    </tr>\n",
       "    <tr>\n",
       "      <th>2</th>\n",
       "      <td>The Godfather: Part II</td>\n",
       "      <td>The early life and career of Vito Corleone...</td>\n",
       "      <td>202 min</td>\n",
       "      <td>Crime, Drama</td>\n",
       "      <td>Francis Ford Coppola</td>\n",
       "      <td>9.0</td>\n",
       "      <td>['    Stars:', 'Al Pacino, ', 'Robert De Niro,...</td>\n",
       "      <td>(1974)</td>\n",
       "    </tr>\n",
       "    <tr>\n",
       "      <th>3</th>\n",
       "      <td>The Dark Knight</td>\n",
       "      <td>When the menace known as the Joker wreaks ...</td>\n",
       "      <td>152 min</td>\n",
       "      <td>Action, Crime, Drama</td>\n",
       "      <td>Christopher Nolan</td>\n",
       "      <td>9.0</td>\n",
       "      <td>['    Stars:', 'Christian Bale, ', 'Heath Ledg...</td>\n",
       "      <td>(2008)</td>\n",
       "    </tr>\n",
       "    <tr>\n",
       "      <th>4</th>\n",
       "      <td>12 Angry Men</td>\n",
       "      <td>A jury holdout attempts to prevent a misca...</td>\n",
       "      <td>96 min</td>\n",
       "      <td>Crime, Drama</td>\n",
       "      <td>Sidney Lumet</td>\n",
       "      <td>9.0</td>\n",
       "      <td>['    Stars:', 'Henry Fonda, ', 'Lee J. Cobb, ...</td>\n",
       "      <td>(1957)</td>\n",
       "    </tr>\n",
       "  </tbody>\n",
       "</table>\n",
       "</div>"
      ],
      "text/plain": [
       "                 MovieTtile  \\\n",
       "0  The Shawshank Redemption   \n",
       "1             The Godfather   \n",
       "2    The Godfather: Part II   \n",
       "3           The Dark Knight   \n",
       "4              12 Angry Men   \n",
       "\n",
       "                                         Description Duration  \\\n",
       "0      Two imprisoned men bond over a number of y...  142 min   \n",
       "1      The aging patriarch of an organized crime ...  175 min   \n",
       "2      The early life and career of Vito Corleone...  202 min   \n",
       "3      When the menace known as the Joker wreaks ...  152 min   \n",
       "4      A jury holdout attempts to prevent a misca...   96 min   \n",
       "\n",
       "                             Gendre         DirectorsName  Ratings  \\\n",
       "0                 Drama                    Frank Darabont      9.3   \n",
       "1          Crime, Drama              Francis Ford Coppola      9.2   \n",
       "2          Crime, Drama              Francis Ford Coppola      9.0   \n",
       "3  Action, Crime, Drama                 Christopher Nolan      9.0   \n",
       "4          Crime, Drama                      Sidney Lumet      9.0   \n",
       "\n",
       "                                               Stars FilmingDate  \n",
       "0  ['    Stars:', 'Tim Robbins, ', 'Morgan Freema...      (1994)  \n",
       "1  ['    Stars:', 'Marlon Brando, ', 'Al Pacino, ...      (1972)  \n",
       "2  ['    Stars:', 'Al Pacino, ', 'Robert De Niro,...      (1974)  \n",
       "3  ['    Stars:', 'Christian Bale, ', 'Heath Ledg...      (2008)  \n",
       "4  ['    Stars:', 'Henry Fonda, ', 'Lee J. Cobb, ...      (1957)  "
      ]
     },
     "execution_count": 189,
     "metadata": {},
     "output_type": "execute_result"
    }
   ],
   "source": [
    "data_frame = pd.read_csv('content_data.csv')\n",
    "data_frame.head()\n",
    "\n",
    "# x = data_frame.values \n",
    "# min_max_scaler = preprocessing.MinMaxScaler()\n",
    "# x_scaled = min_max_scaler.fit_transform(x)\n",
    "# df = pd.DataFrame(x_scaled)\n"
   ]
  },
  {
   "cell_type": "code",
   "execution_count": 157,
   "metadata": {
    "cell_id": "00005-49abbd8a-9ee6-488a-a906-6a85311c7440",
    "deepnote_cell_type": "code",
    "execution_millis": 4877,
    "execution_start": 1607699991236,
    "output_cleared": false,
    "source_hash": "edf843",
    "tags": []
   },
   "outputs": [
    {
     "name": "stdout",
     "output_type": "stream",
     "text": [
      "number=1.,title=The Shawshank Redemption,year of release=(1994),duration=142 min,genre=Drama            ,rating=9.3,Description=    Two imprisoned men bond over a number of years, finding solace and eventual redemption through acts of common decency.,Director=Frank Darabont,Stars=['    Stars:', 'Tim Robbins, ', 'Morgan Freeman, ', 'Bob Gunton, ', 'William Sadler']\n",
      "number=2.,title=The Godfather,year of release=(1972),duration=175 min,genre=Crime, Drama            ,rating=9.2,Description=    The aging patriarch of an organized crime dynasty transfers control of his clandestine empire to his reluctant son.,Director=Francis Ford Coppola,Stars=['    Stars:', 'Marlon Brando, ', 'Al Pacino, ', 'James Caan, ', 'Diane Keaton']\n",
      "number=3.,title=The Godfather: Part II,year of release=(1974),duration=202 min,genre=Crime, Drama            ,rating=9,Description=    The early life and career of Vito Corleone in 1920s New York City is portrayed, while his son, Michael, expands and tightens his grip on the family crime syndicate.,Director=Francis Ford Coppola,Stars=['    Stars:', 'Al Pacino, ', 'Robert De Niro, ', 'Robert Duvall, ', 'Diane Keaton']\n",
      "number=4.,title=The Dark Knight,year of release=(2008),duration=152 min,genre=Action, Crime, Drama            ,rating=9,Description=    When the menace known as the Joker wreaks havoc and chaos on the people of Gotham, Batman must accept one of the greatest psychological and physical tests of his ability to fight injustice.,Director=Christopher Nolan,Stars=['    Stars:', 'Christian Bale, ', 'Heath Ledger, ', 'Aaron Eckhart, ', 'Michael Caine']\n",
      "number=5.,title=12 Angry Men,year of release=(1957),duration=96 min,genre=Crime, Drama            ,rating=9,Description=    A jury holdout attempts to prevent a miscarriage of justice by forcing his colleagues to reconsider the evidence.,Director=Sidney Lumet,Stars=['    Stars:', 'Henry Fonda, ', 'Lee J. Cobb, ', 'Martin Balsam, ', 'John Fiedler']\n",
      "number=6.,title=Schindler's List,year of release=(1993),duration=195 min,genre=Biography, Drama, History            ,rating=8.9,Description=    In German-occupied Poland during World War II, industrialist Oskar Schindler gradually becomes concerned for his Jewish workforce after witnessing their persecution by the Nazis.,Director=Steven Spielberg,Stars=['    Stars:', 'Liam Neeson, ', 'Ralph Fiennes, ', 'Ben Kingsley, ', 'Caroline Goodall']\n",
      "number=7.,title=The Lord of the Rings: The Return of the King,year of release=(2003),duration=201 min,genre=Action, Adventure, Drama            ,rating=8.9,Description=    Gandalf and Aragorn lead the World of Men against Sauron's army to draw his gaze from Frodo and Sam as they approach Mount Doom with the One Ring.,Director=Peter Jackson,Stars=['    Stars:', 'Elijah Wood, ', 'Viggo Mortensen, ', 'Ian McKellen, ', 'Orlando Bloom']\n",
      "number=8.,title=Pulp Fiction,year of release=(1994),duration=154 min,genre=Crime, Drama            ,rating=8.9,Description=    The lives of two mob hitmen, a boxer, a gangster and his wife, and a pair of diner bandits intertwine in four tales of violence and redemption.,Director=Quentin Tarantino,Stars=['    Stars:', 'John Travolta, ', 'Uma Thurman, ', 'Samuel L. Jackson, ', 'Bruce Willis']\n",
      "number=9.,title=The Good, the Bad and the Ugly,year of release=(1966),duration=178 min,genre=Western            ,rating=8.8,Description=    A bounty hunting scam joins two men in an uneasy alliance against a third in a race to find a fortune in gold buried in a remote cemetery.,Director=Sergio Leone,Stars=['    Stars:', 'Clint Eastwood, ', 'Eli Wallach, ', 'Lee Van Cleef, ', 'Aldo Giuffrè']\n",
      "number=10.,title=Fight Club,year of release=(1999),duration=139 min,genre=Drama            ,rating=8.8,Description=    An insomniac office worker and a devil-may-care soapmaker form an underground fight club that evolves into something much, much more.,Director=David Fincher,Stars=['    Stars:', 'Brad Pitt, ', 'Edward Norton, ', 'Meat Loaf, ', 'Zach Grenier']\n",
      "number=11.,title=Joker,year of release=(2019),duration=122 min,genre=Crime, Drama, Thriller            ,rating=8.5,Description=    In Gotham City, mentally troubled comedian Arthur Fleck is disregarded and mistreated by society. He then embarks on a downward spiral of revolution and bloody crime. This path brings him face-to-face with his alter-ego: the Joker.,Director=Todd Phillips,Stars=['    Stars:', 'Joaquin Phoenix, ', 'Robert De Niro, ', 'Zazie Beetz, ', 'Frances Conroy']\n",
      "number=12.,title=The Lord of the Rings: The Fellowship of the Ring,year of release=(2001),duration=178 min,genre=Action, Adventure, Drama            ,rating=8.8,Description=    A meek Hobbit from the Shire and eight companions set out on a journey to destroy the powerful One Ring and save Middle-earth from the Dark Lord Sauron.,Director=Peter Jackson,Stars=['    Stars:', 'Elijah Wood, ', 'Ian McKellen, ', 'Orlando Bloom, ', 'Sean Bean']\n",
      "number=13.,title=Forrest Gump,year of release=(1994),duration=142 min,genre=Drama, Romance            ,rating=8.8,Description=    The presidencies of Kennedy and Johnson, the events of Vietnam, Watergate and other historical events unfold through the perspective of an Alabama man with an IQ of 75, whose only desire is to be reunited with his childhood sweetheart.,Director=Robert Zemeckis,Stars=['    Stars:', 'Tom Hanks, ', 'Robin Wright, ', 'Gary Sinise, ', 'Sally Field']\n",
      "number=14.,title=Inception,year of release=(2010),duration=148 min,genre=Action, Adventure, Sci-Fi            ,rating=8.8,Description=    A thief who steals corporate secrets through the use of dream-sharing technology is given the inverse task of planting an idea into the mind of a C.E.O.,Director=Christopher Nolan,Stars=['    Stars:', 'Leonardo DiCaprio, ', 'Joseph Gordon-Levitt, ', 'Elliot Page, ', 'Ken Watanabe']\n",
      "number=15.,title=Star Wars: Episode V - The Empire Strikes Back,year of release=(1980),duration=124 min,genre=Action, Adventure, Fantasy            ,rating=8.7,Description=    After the Rebels are brutally overpowered by the Empire on the ice planet Hoth, Luke Skywalker begins Jedi training with Yoda, while his friends are pursued by Darth Vader and a bounty hunter named Boba Fett all over the galaxy.,Director=Irvin Kershner,Stars=['    Stars:', 'Mark Hamill, ', 'Harrison Ford, ', 'Carrie Fisher, ', 'Billy Dee Williams']\n",
      "number=16.,title=The Lord of the Rings: The Two Towers,year of release=(2002),duration=179 min,genre=Action, Adventure, Drama            ,rating=8.7,Description=    While Frodo and Sam edge closer to Mordor with the help of the shifty Gollum, the divided fellowship makes a stand against Sauron's new ally, Saruman, and his hordes of Isengard.,Director=Peter Jackson,Stars=['    Stars:', 'Elijah Wood, ', 'Ian McKellen, ', 'Viggo Mortensen, ', 'Orlando Bloom']\n",
      "number=17.,title=The Matrix,year of release=(1999),duration=136 min,genre=Action, Sci-Fi            ,rating=8.7,Description=    When a beautiful stranger leads computer hacker Neo to a forbidding underworld, he discovers the shocking truth--the life he knows is the elaborate deception of an evil cyber-intelligence.,Director=Lana Wachowski, ,Stars=['| ', '    Stars:', 'Keanu Reeves, ', 'Laurence Fishburne, ', 'Carrie-Anne Moss, ', 'Hugo Weaving']\n",
      "number=18.,title=One Flew Over the Cuckoo's Nest,year of release=(1975),duration=133 min,genre=Drama            ,rating=8.7,Description=    A criminal pleads insanity and is admitted to a mental institution, where he rebels against the oppressive nurse and rallies up the scared patients.,Director=Milos Forman,Stars=['    Stars:', 'Jack Nicholson, ', 'Louise Fletcher, ', 'Michael Berryman, ', 'Peter Brocco']\n",
      "number=19.,title=Goodfellas,year of release=(1990),duration=146 min,genre=Biography, Crime, Drama            ,rating=8.7,Description=    The story of Henry Hill and his life in the mob, covering his relationship with his wife Karen Hill and his mob partners Jimmy Conway and Tommy DeVito in the Italian-American crime syndicate.,Director=Martin Scorsese,Stars=['    Stars:', 'Robert De Niro, ', 'Ray Liotta, ', 'Joe Pesci, ', 'Lorraine Bracco']\n",
      "number=20.,title=Seven Samurai,year of release=(1954),duration=207 min,genre=Action, Adventure, Drama            ,rating=8.6,Description=    A poor village under attack by bandits recruits seven unemployed samurai to help them defend themselves.,Director=Akira Kurosawa,Stars=['    Stars:', 'Toshirô Mifune, ', 'Takashi Shimura, ', 'Keiko Tsushima, ', 'Yukiko Shimazaki']\n",
      "number=21.,title=Se7en,year of release=(1995),duration=127 min,genre=Crime, Drama, Mystery            ,rating=8.6,Description=    Two detectives, a rookie and a veteran, hunt a serial killer who uses the seven deadly sins as his motives.,Director=David Fincher,Stars=['    Stars:', 'Morgan Freeman, ', 'Brad Pitt, ', 'Kevin Spacey, ', 'Andrew Kevin Walker']\n",
      "number=22.,title=City of God,year of release=(2002),duration=130 min,genre=Crime, Drama            ,rating=8.6,Description=    In the slums of Rio, two kids' paths diverge as one struggles to become a photographer and the other a kingpin.,Director=Fernando Meirelles, ,Stars=['| ', '    Stars:', 'Alexandre Rodrigues, ', 'Leandro Firmino, ', 'Matheus Nachtergaele, ', 'Phellipe Haagensen']\n",
      "number=23.,title=Life Is Beautiful,year of release=(1997),duration=116 min,genre=Comedy, Drama, Romance            ,rating=8.6,Description=    When an open-minded Jewish librarian and his son become victims of the Holocaust, he uses a perfect mixture of will, humor, and imagination to protect his son from the dangers around their camp.,Director=Roberto Benigni,Stars=['    Stars:', 'Roberto Benigni, ', 'Nicoletta Braschi, ', 'Giorgio Cantarini, ', 'Giustino Durano']\n",
      "number=24.,title=The Silence of the Lambs,year of release=(1991),duration=118 min,genre=Crime, Drama, Thriller            ,rating=8.6,Description=    A young F.B.I. cadet must receive the help of an incarcerated and manipulative cannibal killer to help catch another serial killer, a madman who skins his victims.,Director=Jonathan Demme,Stars=['    Stars:', 'Jodie Foster, ', 'Anthony Hopkins, ', 'Lawrence A. Bonney, ', 'Kasi Lemmons']\n",
      "number=25.,title=Star Wars: Episode IV - A New Hope,year of release=(1977),duration=121 min,genre=Action, Adventure, Fantasy            ,rating=8.6,Description=    Luke Skywalker joins forces with a Jedi Knight, a cocky pilot, a Wookiee and two droids to save the galaxy from the Empire's world-destroying battle station, while also attempting to rescue Princess Leia from the mysterious Darth Vader.,Director=George Lucas,Stars=['    Stars:', 'Mark Hamill, ', 'Harrison Ford, ', 'Carrie Fisher, ', 'Alec Guinness']\n",
      "number=26.,title=It's a Wonderful Life,year of release=(1946),duration=130 min,genre=Drama, Family, Fantasy            ,rating=8.6,Description=    An angel is sent from Heaven to help a desperately frustrated businessman by showing him what life would have been like if he had never existed.,Director=Frank Capra,Stars=['    Stars:', 'James Stewart, ', 'Donna Reed, ']\n",
      "number=27.,title=Saving Private Ryan,year of release=(1998),duration=169 min,genre=Drama, War            ,rating=8.6,Description=    Following the Normandy Landings, a group of U.S. soldiers go behind enemy lines to retrieve a paratrooper whose brothers have been killed in action.,Director=Steven Spielberg,Stars=['    Stars:', 'Tom Hanks, ', 'Matt Damon, ', 'Tom Sizemore, ', 'Edward Burns']\n",
      "number=28.,title=Spirited Away,year of release=(2001),duration=125 min,genre=Animation, Adventure, Family            ,rating=8.6,Description=    During her family's move to the suburbs, a sullen 10-year-old girl wanders into a world ruled by gods, witches, and spirits, and where humans are changed into beasts.,Director=Hayao Miyazaki,Stars=['    Stars:', 'Daveigh Chase, ', 'Suzanne Pleshette, ', 'Miyu Irino, ', 'Rumi Hiiragi']\n",
      "number=29.,title=The Green Mile,year of release=(1999),duration=189 min,genre=Crime, Drama, Fantasy            ,rating=8.6,Description=    The lives of guards on Death Row are affected by one of their charges: a black man accused of child murder and rape, yet who has a mysterious gift.,Director=Frank Darabont,Stars=['    Stars:', 'Tom Hanks, ', 'Michael Clarke Duncan, ', 'David Morse, ', 'Bonnie Hunt']\n",
      "number=30.,title=Léon: The Professional,year of release=(1994),duration=110 min,genre=Action, Crime, Drama            ,rating=8.5,Description=    Mathilda, a 12-year-old girl, is reluctantly taken in by Léon, a professional assassin, after her family is murdered. An unusual relationship forms as she becomes his protégée and learns the assassin's trade.,Director=Luc Besson,Stars=['    Stars:', 'Jean Reno, ', 'Gary Oldman, ', 'Natalie Portman, ', 'Danny Aiello']\n",
      "number=31.,title=Hara-Kiri,year of release=(1962),duration=133 min,genre=Action, Drama, Mystery            ,rating=8.6,Description=    When a ronin requesting seppuku at a feudal lord's palace is told of the brutal suicide of another ronin who previously visited, he reveals how their pasts are intertwined - and in doing so challenges the clan's integrity.,Director=Masaki Kobayashi,Stars=['    Stars:', 'Tatsuya Nakadai, ', 'Akira Ishihama, ']\n",
      "number=32.,title=Interstellar,year of release=(2014),duration=169 min,genre=Adventure, Drama, Sci-Fi            ,rating=8.6,Description=    A team of explorers travel through a wormhole in space in an attempt to ensure humanity's survival.,Director=Christopher Nolan,Stars=['    Stars:', 'Matthew McConaughey, ', 'Anne Hathaway, ', 'Jessica Chastain, ', 'Mackenzie Foy']\n",
      "number=33.,title=The Usual Suspects,year of release=(1995),duration=106 min,genre=Crime, Mystery, Thriller            ,rating=8.5,Description=    A sole survivor tells of the twisty events leading up to a horrific gun battle on a boat, which began when five criminals met at a seemingly random police lineup.,Director=Bryan Singer,Stars=['    Stars:', 'Kevin Spacey, ', 'Gabriel Byrne, ', 'Chazz Palminteri, ', 'Stephen Baldwin']\n",
      "number=34.,title=The Lion King,year of release=(1994),duration=88 min,genre=Animation, Adventure, Drama            ,rating=8.5,Description=    Lion prince Simba and his father are targeted by his bitter uncle, who wants to ascend the throne himself.,Director=Roger Allers, ,Stars=['| ', '    Stars:', 'Matthew Broderick, ', 'Jeremy Irons, ', 'James Earl Jones, ', 'Whoopi Goldberg']\n",
      "number=35.,title=American History X,year of release=(1998),duration=119 min,genre=Drama            ,rating=8.5,Description=    A former neo-nazi skinhead tries to prevent his younger brother from going down the same wrong path that he did.,Director=Tony Kaye,Stars=['    Stars:', 'Edward Norton, ', 'Edward Furlong, ', \"Beverly D'Angelo, \", 'Jennifer Lien']\n",
      "number=36.,title=Back to the Future,year of release=(1985),duration=116 min,genre=Adventure, Comedy, Sci-Fi            ,rating=8.5,Description=    Marty McFly, a 17-year-old high school student, is accidentally sent thirty years into the past in a time-traveling DeLorean invented by his close friend, the eccentric scientist Doc Brown.,Director=Robert Zemeckis,Stars=['    Stars:', 'Michael J. Fox, ', 'Christopher Lloyd, ', 'Lea Thompson, ', 'Crispin Glover']\n",
      "number=37.,title=The Pianist,year of release=(2002),duration=150 min,genre=Biography, Drama, Music            ,rating=8.5,Description=    A Polish Jewish musician struggles to survive the destruction of the Warsaw ghetto of World War II.,Director=Roman Polanski,Stars=['    Stars:', 'Adrien Brody, ', 'Thomas Kretschmann, ', 'Frank Finlay, ', 'Emilia Fox']\n",
      "number=38.,title=Modern Times,year of release=(1936),duration=87 min,genre=Comedy, Drama, Family            ,rating=8.5,Description=    The Tramp struggles to live in modern industrial society with the help of a young homeless woman.,Director=Charles Chaplin,Stars=['    Stars:', 'Charles Chaplin, ', 'Paulette Goddard, ', 'Henry Bergman, ', 'Tiny Sandford']\n",
      "number=39.,title=Terminator 2: Judgment Day,year of release=(1991),duration=137 min,genre=Action, Sci-Fi            ,rating=8.5,Description=    A cyborg, identical to the one who failed to kill Sarah Connor, must now protect her teenage son, John Connor, from a more advanced and powerful cyborg.,Director=James Cameron,Stars=['    Stars:', 'Arnold Schwarzenegger, ', 'Linda Hamilton, ', 'Edward Furlong, ', 'Robert Patrick']\n",
      "number=40.,title=The Intouchables,year of release=(2011),duration=112 min,genre=Biography, Comedy, Drama            ,rating=8.5,Description=    After he becomes a quadriplegic from a paragliding accident, an aristocrat hires a young man from the projects to be his caregiver.,Director=Olivier Nakache, ,Stars=['| ', '    Stars:', 'François Cluzet, ', 'Omar Sy, ', 'Anne Le Ny, ', 'Audrey Fleurot']\n",
      "number=41.,title=Psycho,year of release=(1960),duration=109 min,genre=Horror, Mystery, Thriller            ,rating=8.5,Description=    A Phoenix secretary embezzles $40,000 from her employer's client, goes on the run, and checks into a remote motel run by a young man under the domination of his mother.,Director=Alfred Hitchcock,Stars=['    Stars:', 'Anthony Perkins, ', 'Janet Leigh, ', 'Vera Miles, ', 'John Gavin']\n",
      "number=42.,title=Gladiator,year of release=(2000),duration=155 min,genre=Action, Adventure, Drama            ,rating=8.5,Description=    A former Roman General sets out to exact vengeance against the corrupt emperor who murdered his family and sent him into slavery.,Director=Ridley Scott,Stars=['    Stars:', 'Russell Crowe, ', 'Joaquin Phoenix, ', 'Connie Nielsen, ', 'Oliver Reed']\n",
      "number=43.,title=City Lights,year of release=(1931),duration=87 min,genre=Comedy, Drama, Romance            ,rating=8.5,Description=    With the aid of a wealthy erratic tippler, a dewy-eyed tramp who has fallen in love with a sightless flower girl accumulates money to be able to help her medically.,Director=Charles Chaplin,Stars=['    Stars:', 'Charles Chaplin, ', 'Virginia Cherrill, ', 'Florence Lee, ', 'Harry Myers']\n",
      "number=44.,title=The Departed,year of release=(2006),duration=151 min,genre=Crime, Drama, Thriller            ,rating=8.5,Description=    An undercover cop and a mole in the police attempt to identify each other while infiltrating an Irish gang in South Boston.,Director=Martin Scorsese,Stars=['    Stars:', 'Leonardo DiCaprio, ', 'Matt Damon, ', 'Jack Nicholson, ', 'Mark Wahlberg']\n",
      "number=45.,title=Whiplash,year of release=(2014),duration=106 min,genre=Drama, Music            ,rating=8.5,Description=    A promising young drummer enrolls at a cut-throat music conservatory where his dreams of greatness are mentored by an instructor who will stop at nothing to realize a student's potential.,Director=Damien Chazelle,Stars=['    Stars:', 'Miles Teller, ', 'J.K. Simmons, ', 'Melissa Benoist, ', 'Paul Reiser']\n",
      "number=46.,title=Once Upon a Time in the West,year of release=(1968),duration=165 min,genre=Western            ,rating=8.5,Description=    A mysterious stranger with a harmonica joins forces with a notorious desperado to protect a beautiful widow from a ruthless assassin working for the railroad.,Director=Sergio Leone,Stars=['    Stars:', 'Henry Fonda, ', 'Charles Bronson, ', 'Claudia Cardinale, ', 'Jason Robards']\n",
      "number=47.,title=The Prestige,year of release=(2006),duration=130 min,genre=Drama, Mystery, Sci-Fi            ,rating=8.5,Description=    After a tragic accident, two stage magicians engage in a battle to create the ultimate illusion while sacrificing everything they have to outwit each other.,Director=Christopher Nolan,Stars=['    Stars:', 'Christian Bale, ', 'Hugh Jackman, ', 'Scarlett Johansson, ', 'Michael Caine']\n",
      "number=48.,title=Avengers: Endgame,year of release=(2019),duration=181 min,genre=Action, Adventure, Drama            ,rating=8.4,Description=    After the devastating events of Avengers: Infinity War (2018), the universe is in ruins. With the help of remaining allies, the Avengers assemble once more in order to reverse Thanos' actions and restore balance to the universe.,Director=Anthony Russo, ,Stars=['| ', '    Stars:', 'Robert Downey Jr., ', 'Chris Evans, ', 'Mark Ruffalo, ', 'Chris Hemsworth']\n",
      "number=49.,title=Casablanca,year of release=(1942),duration=102 min,genre=Drama, Romance, War            ,rating=8.5,Description=    A cynical American expatriate struggles to decide whether or not he should help his former lover and her fugitive husband escape French Morocco.,Director=Michael Curtiz,Stars=['    Stars:', 'Humphrey Bogart, ', 'Ingrid Bergman, ', 'Paul Henreid, ', 'Claude Rains']\n",
      "number=50.,title=Grave of the Fireflies,year of release=(1988),duration=89 min,genre=Animation, Drama, War            ,rating=8.5,Description=    A young boy and his little sister struggle to survive in Japan during World War II.,Director=Isao Takahata,Stars=['    Stars:', 'Tsutomu Tatsumi, ', 'Ayano Shiraishi, ']\n",
      "number=51.,title=Rear Window,year of release=(1954),duration=112 min,genre=Mystery, Thriller            ,rating=8.4,Description=    A wheelchair-bound photographer spies on his neighbors from his apartment window and becomes convinced one of them has committed murder.,Director=Alfred Hitchcock,Stars=['    Stars:', 'James Stewart, ', 'Grace Kelly, ', 'Wendell Corey, ', 'Thelma Ritter']\n",
      "number=52.,title=Cinema Paradiso,year of release=(1988),duration=155 min,genre=Drama            ,rating=8.5,Description=    A filmmaker recalls his childhood when falling in love with the pictures at the cinema of his home village and forms a deep friendship with the cinema's projectionist.,Director=Giuseppe Tornatore,Stars=['    Stars:', 'Philippe Noiret, ', 'Enzo Cannavale, ', 'Antonella Attili, ', 'Isa Danieli']\n",
      "number=53.,title=Alien,year of release=(1979),duration=117 min,genre=Horror, Sci-Fi            ,rating=8.4,Description=    After a space merchant vessel receives an unknown transmission as a distress call, one of the crew is attacked by a mysterious life form and they soon realize that its life cycle has merely begun.,Director=Ridley Scott,Stars=['    Stars:', 'Sigourney Weaver, ', 'Tom Skerritt, ', 'John Hurt, ', 'Veronica Cartwright']\n",
      "number=54.,title=Raiders of the Lost Ark,year of release=(1981),duration=115 min,genre=Action, Adventure            ,rating=8.4,Description=    In 1936, archaeologist and adventurer Indiana Jones is hired by the U.S. government to find the Ark of the Covenant before Adolf Hitler's Nazis can obtain its awesome powers.,Director=Steven Spielberg,Stars=['    Stars:', 'Harrison Ford, ', 'Karen Allen, ', 'Paul Freeman, ', 'John Rhys-Davies']\n",
      "number=55.,title=Memento,year of release=(2000),duration=113 min,genre=Mystery, Thriller            ,rating=8.4,Description=    A man with short-term memory loss attempts to track down his wife's murderer.,Director=Christopher Nolan,Stars=['    Stars:', 'Guy Pearce, ', 'Carrie-Anne Moss, ', 'Joe Pantoliano, ', 'Mark Boone Junior']\n",
      "number=56.,title=Apocalypse Now,year of release=(1979),duration=147 min,genre=Drama, Mystery, War            ,rating=8.4,Description=    A U.S. Army officer serving in Vietnam is tasked with assassinating a renegade Special Forces Colonel who sees himself as a god.,Director=Francis Ford Coppola,Stars=['    Stars:', 'Martin Sheen, ', 'Marlon Brando, ', 'Robert Duvall, ', 'Frederic Forrest']\n",
      "number=57.,title=The Great Dictator,year of release=(1940),duration=125 min,genre=Comedy, Drama, War            ,rating=8.4,Description=| ,Director=Charles Chaplin, ,Stars=['Jack Oakie, ', 'Reginald Gardiner']\n",
      "number=58.,title=The Lives of Others,year of release=(2006),duration=137 min,genre=Drama, Mystery, Thriller            ,rating=8.4,Description=    In 1984 East Berlin, an agent of the secret police, conducting surveillance on a writer and his lover, finds himself becoming increasingly absorbed by their lives.,Director=Florian Henckel von Donnersmarck,Stars=['    Stars:', 'Ulrich Mühe, ', 'Martina Gedeck, ', 'Sebastian Koch, ', 'Ulrich Tukur']\n",
      "number=59.,title=Avengers: Infinity War,year of release=(2018),duration=149 min,genre=Action, Adventure, Sci-Fi            ,rating=8.4,Description=    The Avengers and their allies must be willing to sacrifice all in an attempt to defeat the powerful Thanos before his blitz of devastation and ruin puts an end to the universe.,Director=Anthony Russo, ,Stars=['| ', '    Stars:', 'Robert Downey Jr., ', 'Chris Hemsworth, ', 'Mark Ruffalo, ', 'Chris Evans']\n",
      "number=60.,title=Django Unchained,year of release=(2012),duration=165 min,genre=Drama, Western            ,rating=8.4,Description=    With the help of a German bounty hunter, a freed slave sets out to rescue his wife from a brutal Mississippi plantation owner.,Director=Quentin Tarantino,Stars=['    Stars:', 'Jamie Foxx, ', 'Christoph Waltz, ', 'Leonardo DiCaprio, ', 'Kerry Washington']\n",
      "number=61.,title=Spider-Man: Into the Spider-Verse,year of release=(2018),duration=117 min,genre=Animation, Action, Adventure            ,rating=8.4,Description=    Teen Miles Morales becomes the Spider-Man of his universe, and must join with five spider-powered individuals from other dimensions to stop a threat for all realities.,Director=Bob Persichetti, ,Stars=['Rodney Rothman', '| ', '    Stars:', 'Shameik Moore, ', 'Jake Johnson, ', 'Hailee Steinfeld, ', 'Mahershala Ali']\n",
      "number=62.,title=The Shining,year of release=(1980),duration=146 min,genre=Drama, Horror            ,rating=8.4,Description=    A family heads to an isolated hotel for the winter where a sinister presence influences the father into violence, while his psychic son sees horrific forebodings from both past and future.,Director=Stanley Kubrick,Stars=['    Stars:', 'Jack Nicholson, ', 'Shelley Duvall, ', 'Danny Lloyd, ', 'Scatman Crothers']\n",
      "number=63.,title=Paths of Glory,year of release=(1957),duration=88 min,genre=Drama, War            ,rating=8.4,Description=    After refusing to attack an enemy position, a general accuses the soldiers of cowardice and their commanding officer must defend them.,Director=Stanley Kubrick,Stars=['    Stars:', 'Kirk Douglas, ', 'Ralph Meeker, ']\n",
      "number=64.,title=WALL·E,year of release=(2008),duration=98 min,genre=Animation, Adventure, Family            ,rating=8.4,Description=    In the distant future, a small waste-collecting robot inadvertently embarks on a space journey that will ultimately decide the fate of mankind.,Director=Andrew Stanton,Stars=['    Stars:', 'Ben Burtt, ', 'Elissa Knight, ', 'Jeff Garlin, ', 'Fred Willard']\n",
      "number=65.,title=Sunset Blvd.,year of release=(1950),duration=110 min,genre=Drama, Film-Noir            ,rating=8.4,Description=| ,Director=William Holden, ,Stars=[]\n",
      "number=66.,title=Dr. Strangelove or: How I Learned to Stop Worrying and Love the Bomb,year of release=(1964),duration=95 min,genre=Comedy            ,rating=8.4,Description=    An insane general triggers a path to nuclear holocaust that a War Room full of politicians and generals frantically tries to stop.,Director=Stanley Kubrick,Stars=['    Stars:', 'Peter Sellers, ', 'George C. Scott, ', 'Sterling Hayden, ', 'Keenan Wynn']\n",
      "number=67.,title=Princess Mononoke,year of release=(1997),duration=134 min,genre=Animation, Adventure, Fantasy            ,rating=8.4,Description=    On a journey to find the cure for a Tatarigami's curse, Ashitaka finds himself in the middle of a war between the forest gods and Tatara, a mining colony. In this quest he also meets San, the Mononoke Hime.,Director=Hayao Miyazaki,Stars=['    Stars:', 'Yôji Matsuda, ', 'Yuriko Ishida, ', 'Yûko Tanaka, ', 'Billy Crudup']\n",
      "number=68.,title=Oldboy,year of release=(2003),duration=120 min,genre=Action, Drama, Mystery            ,rating=8.4,Description=    After being kidnapped and imprisoned for fifteen years, Oh Dae-Su is released, only to find that he must find his captor in five days.,Director=Chan-wook Park,Stars=['    Stars:', 'Choi Min-sik, ', 'Yoo Ji-Tae, ', 'Hye-jeong Kang, ', 'Kim Byeong-Ok']\n",
      "number=69.,title=Witness for the Prosecution,year of release=(1957),duration=116 min,genre=Crime, Drama, Mystery            ,rating=8.4,Description=| ,Director=Tyrone Power, ,Stars=['Charles Laughton, ', 'Elsa Lanchester']\n",
      "number=70.,title=The Dark Knight Rises,year of release=(2012),duration=164 min,genre=Action, Adventure            ,rating=8.4,Description=    Eight years after the Joker's reign of anarchy, Batman, with the help of the enigmatic Catwoman, is forced from his exile to save Gotham City from the brutal guerrilla terrorist Bane.,Director=Christopher Nolan,Stars=['    Stars:', 'Christian Bale, ', 'Tom Hardy, ', 'Anne Hathaway, ', 'Gary Oldman']\n",
      "number=71.,title=Once Upon a Time in America,year of release=(1984),duration=229 min,genre=Crime, Drama            ,rating=8.4,Description=| ,Director=Robert De Niro, ,Stars=['Elizabeth McGovern, ', 'Treat Williams']\n",
      "number=72.,title=Parasite,year of release=(2019),duration=132 min,genre=Comedy, Drama, Thriller            ,rating=8.6,Description=    Greed and class discrimination threaten the newly formed symbiotic relationship between the wealthy Park family and the destitute Kim clan.,Director=Bong Joon Ho,Stars=['    Stars:', 'Song Kang-Ho, ', 'Sun-kyun Lee, ', 'Yeo-jeong Jo, ', 'Woo-sik Choi']\n",
      "number=73.,title=Aliens,year of release=(1986),duration=137 min,genre=Action, Adventure, Sci-Fi            ,rating=8.3,Description=    Fifty-seven years after surviving an apocalyptic attack aboard her space vessel by merciless space creatures, Officer Ripley awakens from hyper-sleep and tries to warn anyone who will listen about the predators.,Director=James Cameron,Stars=['    Stars:', 'Sigourney Weaver, ', 'Michael Biehn, ', 'Carrie Henn, ', 'Paul Reiser']\n",
      "number=74.,title=American Beauty,year of release=(1999),duration=122 min,genre=Drama            ,rating=8.3,Description=    A sexually frustrated suburban father has a mid-life crisis after becoming infatuated with his daughter's best friend.,Director=Sam Mendes,Stars=['    Stars:', 'Kevin Spacey, ', 'Annette Bening, ', 'Thora Birch, ', 'Wes Bentley']\n",
      "number=75.,title=Coco,year of release=(I) (2017),duration=105 min,genre=Animation, Adventure, Family            ,rating=8.4,Description=    Aspiring musician Miguel, confronted with his family's ancestral ban on music, enters the Land of the Dead to find his great-great-grandfather, a legendary singer.,Director=Lee Unkrich, ,Stars=['| ', '    Stars:', 'Anthony Gonzalez, ', 'Gael García Bernal, ', 'Benjamin Bratt, ', 'Alanna Ubach']\n",
      "number=76.,title=Your Name.,year of release=(2016),duration=106 min,genre=Animation, Drama, Fantasy            ,rating=8.4,Description=    Two strangers find themselves linked in a bizarre way. When a connection forms, will distance be the only thing to keep them apart?,Director=Makoto Shinkai,Stars=['    Stars:', 'Ryûnosuke Kamiki, ', 'Mone Kamishiraishi, ', 'Ryô Narita, ', 'Aoi Yûki']\n",
      "number=77.,title=Braveheart,year of release=(1995),duration=178 min,genre=Biography, Drama, History            ,rating=8.3,Description=    Scottish warrior William Wallace leads his countrymen in a rebellion to free his homeland from the tyranny of King Edward I of England.,Director=Mel Gibson,Stars=['    Stars:', 'Mel Gibson, ', 'Sophie Marceau, ', 'Patrick McGoohan, ', 'Angus Macfadyen']\n",
      "number=78.,title=Das Boot,year of release=(1981),duration=149 min,genre=Adventure, Drama, Thriller            ,rating=8.3,Description=    The claustrophobic world of a WWII German U-boat; boredom, filth and sheer terror.,Director=Wolfgang Petersen,Stars=['    Stars:', 'Jürgen Prochnow, ', 'Herbert Grönemeyer, ', 'Klaus Wennemann, ', 'Hubertus Bengsch']\n",
      "number=79.,title=3 Idiots,year of release=(2009),duration=170 min,genre=Comedy, Drama            ,rating=8.4,Description=    Two friends are searching for their long lost companion. They revisit their college days and recall the memories of their friend who inspired them to think differently, even as the rest of the world called them \"idiots\".,Director=Rajkumar Hirani,Stars=['    Stars:', 'Aamir Khan, ', 'Madhavan, ', 'Mona Singh, ', 'Sharman Joshi']\n",
      "number=80.,title=Taare Zameen Par,year of release=(2007),duration=165 min,genre=Drama, Family            ,rating=8.4,Description=Amole Gupte,Director=    Stars:,Stars=['Aamir Khan, ', 'Tisca Chopra, ', 'Vipin Sharma']\n",
      "number=81.,title=Star Wars: Episode VI - Return of the Jedi,year of release=(1983),duration=131 min,genre=Action, Adventure, Fantasy            ,rating=8.3,Description=    After a daring mission to rescue Han Solo from Jabba the Hutt, the Rebels dispatch to Endor to destroy the second Death Star. Meanwhile, Luke struggles to help Darth Vader back from the dark side without falling into the Emperor's trap.,Director=Richard Marquand,Stars=['    Stars:', 'Mark Hamill, ', 'Harrison Ford, ', 'Carrie Fisher, ', 'Billy Dee Williams']\n",
      "number=82.,title=Toy Story,year of release=(1995),duration=81 min,genre=Animation, Adventure, Comedy            ,rating=8.3,Description=    A cowboy doll is profoundly threatened and jealous when a new spaceman figure supplants him as top toy in a boy's room.,Director=John Lasseter,Stars=['    Stars:', 'Tom Hanks, ', 'Tim Allen, ', 'Don Rickles, ', 'Jim Varney']\n",
      "number=83.,title=Reservoir Dogs,year of release=(1992),duration=99 min,genre=Crime, Drama, Thriller            ,rating=8.3,Description=    When a simple jewelry heist goes horribly wrong, the surviving criminals begin to suspect that one of them is a police informant.,Director=Quentin Tarantino,Stars=['    Stars:', 'Harvey Keitel, ', 'Tim Roth, ', 'Michael Madsen, ', 'Chris Penn']\n",
      "number=84.,title=Amadeus,year of release=(1984),duration=160 min,genre=Biography, Drama, History            ,rating=8.3,Description=    The life, success and troubles of Wolfgang Amadeus Mozart, as told by Antonio Salieri, the contemporaneous composer who was insanely jealous of Mozart's talent and claimed to have murdered him.,Director=Milos Forman,Stars=['    Stars:', 'F. Murray Abraham, ', 'Tom Hulce, ', 'Elizabeth Berridge, ', 'Roy Dotrice']\n",
      "number=85.,title=Dangal,year of release=(2016),duration=161 min,genre=Action, Biography, Drama            ,rating=8.4,Description=| ,Director=Aamir Khan, ,Stars=['Fatima Sana Shaikh, ', 'Sanya Malhotra']\n",
      "number=86.,title=Good Will Hunting,year of release=(1997),duration=126 min,genre=Drama, Romance            ,rating=8.3,Description=    Will Hunting, a janitor at M.I.T., has a gift for mathematics, but needs help from a psychologist to find direction in his life.,Director=Gus Van Sant,Stars=['    Stars:', 'Robin Williams, ', 'Matt Damon, ', 'Ben Affleck, ', 'Stellan Skarsgård']\n",
      "number=87.,title=Inglourious Basterds,year of release=(2009),duration=153 min,genre=Adventure, Drama, War            ,rating=8.3,Description=    In Nazi-occupied France during World War II, a plan to assassinate Nazi leaders by a group of Jewish U.S. soldiers coincides with a theatre owner's vengeful plans for the same.,Director=Quentin Tarantino,Stars=['    Stars:', 'Brad Pitt, ', 'Diane Kruger, ', 'Eli Roth, ', 'Mélanie Laurent']\n",
      "number=88.,title=M,year of release=(1931),duration=99 min,genre=Crime, Mystery, Thriller            ,rating=8.3,Description=| ,Director=Peter Lorre, ,Stars=['Inge Landgut, ', 'Otto Wernicke']\n",
      "number=89.,title=Requiem for a Dream,year of release=(2000),duration=102 min,genre=Drama            ,rating=8.3,Description=    The drug-induced utopias of four Coney Island people are shattered when their addictions run deep.,Director=Darren Aronofsky,Stars=['    Stars:', 'Ellen Burstyn, ', 'Jared Leto, ', 'Jennifer Connelly, ', 'Marlon Wayans']\n",
      "number=90.,title=2001: A Space Odyssey,year of release=(1968),duration=149 min,genre=Adventure, Sci-Fi            ,rating=8.3,Description=    After discovering a mysterious artifact buried beneath the Lunar surface, mankind sets off on a quest to find its origins with help from intelligent supercomputer H.A.L. 9000.,Director=Stanley Kubrick,Stars=['    Stars:', 'Keir Dullea, ', 'Gary Lockwood, ', 'William Sylvester, ', 'Daniel Richter']\n",
      "number=91.,title=Vertigo,year of release=(1958),duration=128 min,genre=Mystery, Romance, Thriller            ,rating=8.3,Description=    A former police detective juggles wrestling with his personal demons and becoming obsessed with a hauntingly beautiful woman.,Director=Alfred Hitchcock,Stars=['    Stars:', 'James Stewart, ', 'Kim Novak, ', 'Barbara Bel Geddes, ', 'Tom Helmore']\n",
      "number=92.,title=Eternal Sunshine of the Spotless Mind,year of release=(2004),duration=108 min,genre=Drama, Romance, Sci-Fi            ,rating=8.3,Description=    When their relationship turns sour, a couple undergoes a medical procedure to have each other erased from their memories.,Director=Michel Gondry,Stars=['    Stars:', 'Jim Carrey, ', 'Kate Winslet, ', 'Tom Wilkinson, ', 'Gerry Robert Byrne']\n",
      "number=93.,title=Citizen Kane,year of release=(1941),duration=119 min,genre=Drama, Mystery            ,rating=8.3,Description=    Following the death of publishing tycoon Charles Foster Kane, reporters scramble to uncover the meaning of his final utterance; 'Rosebud'.,Director=Orson Welles,Stars=['    Stars:', 'Orson Welles, ', 'Joseph Cotten, ', 'Dorothy Comingore, ', 'Agnes Moorehead']\n",
      "number=94.,title=Full Metal Jacket,year of release=(1987),duration=116 min,genre=Drama, War            ,rating=8.3,Description=    A pragmatic U.S. Marine observes the dehumanizing effects the Vietnam War has on his fellow recruits from their brutal boot camp training to the bloody street fighting in Hue.,Director=Stanley Kubrick,Stars=['    Stars:', 'Matthew Modine, ', 'R. Lee Ermey, ', \"Vincent D'Onofrio, \", 'Adam Baldwin']\n",
      "number=95.,title=The Hunt,year of release=(2012),duration=115 min,genre=Drama            ,rating=8.3,Description=    A teacher lives a lonely life, all the while struggling over his son's custody. His life slowly gets better as he finds love and receives good news from his son, but his new luck is about to be brutally shattered by an innocent little lie.,Director=Thomas Vinterberg,Stars=['    Stars:', 'Mads Mikkelsen, ', 'Thomas Bo Larsen, ', 'Annika Wedderkopp, ', 'Lasse Fogelstrøm']\n",
      "number=96.,title=North by Northwest,year of release=(1959),duration=136 min,genre=Adventure, Mystery, Thriller            ,rating=8.3,Description=    A New York City advertising executive goes on the run after being mistaken for a government agent by a group of foreign spies.,Director=Alfred Hitchcock,Stars=['    Stars:', 'Cary Grant, ', 'Eva Marie Saint, ', 'James Mason, ', 'Jessie Royce Landis']\n",
      "number=97.,title=A Clockwork Orange,year of release=(1971),duration=136 min,genre=Crime, Drama, Sci-Fi            ,rating=8.3,Description=    In the future, a sadistic gang leader is imprisoned and volunteers for a conduct-aversion experiment, but it doesn't go as planned.,Director=Stanley Kubrick,Stars=['    Stars:', 'Malcolm McDowell, ', 'Patrick Magee, ', 'Michael Bates, ', 'Warren Clarke']\n",
      "number=98.,title=Snatch,year of release=(2000),duration=102 min,genre=Comedy, Crime            ,rating=8.3,Description=    Unscrupulous boxing promoters, violent bookmakers, a Russian gangster, incompetent amateur robbers and supposedly Jewish jewelers fight to track down a priceless stolen diamond.,Director=Guy Ritchie,Stars=['    Stars:', 'Jason Statham, ', 'Brad Pitt, ', 'Benicio Del Toro, ', 'Dennis Farina']\n",
      "number=99.,title=Amélie,year of release=(2001),duration=122 min,genre=Comedy, Romance            ,rating=8.3,Description=    Amélie is an innocent and naive girl in Paris with her own sense of justice. She decides to help those around her and, along the way, discovers love.,Director=Jean-Pierre Jeunet,Stars=['    Stars:', 'Audrey Tautou, ', 'Mathieu Kassovitz, ', 'Rufus, ', 'Lorella Cravotta']\n",
      "number=100.,title=The Kid,year of release=(1921),duration=68 min,genre=Comedy, Drama, Family            ,rating=8.3,Description=| ,Director=Charles Chaplin, ,Stars=['Jackie Coogan, ', 'Carl Miller']\n"
     ]
    }
   ],
   "source": [
    "\n",
    "import requests\n",
    "from bs4 import BeautifulSoup\n",
    "page = requests.get(\"https://www.imdb.com/list/ls091520106/\")\n",
    "soup =BeautifulSoup(page.content, 'html.parser')\n",
    "\n",
    "content=\"\"\n",
    "#get_movie_container = soup.find(\"h3\", {\"class\": \"lister-item-header\"})\n",
    "get_movie_container = soup.find_all(\"div\", {\"class\": \"lister-item-content\"})\n",
    "#print(get_movie_container)\n",
    "num=soup.find_all(\"span\", {\"class\": \"lister-item-index unbold text-primary\"})\n",
    "for item in get_movie_container:\n",
    "    s=item.get_text().strip()\n",
    "    lst=s.split('\\n')\n",
    "    lst2=[i for i in lst if i!=\"\"]\n",
    "    #print(lst2)\n",
    "    print(\"number={0},title={1},year of release={2},duration={3},genre={4},rating={5},Description={6},Director={7},Stars={8}\".format(lst2[0],lst2[1],lst2[2],lst2[5],lst2[7],lst2[8],lst2[37],lst2[39],lst2[41:-4]))\n",
    "    \n"
   ]
  },
  {
   "cell_type": "code",
   "execution_count": 58,
   "metadata": {
    "cell_id": "00007-7e4a8bc1-ae2c-4502-af6e-fab9f85a7adf",
    "deepnote_cell_type": "code",
    "execution_millis": 1,
    "execution_start": 1607689881742,
    "output_cleared": false,
    "source_hash": "71471cf2",
    "tags": []
   },
   "outputs": [],
   "source": [
    "# christen \n",
    "\n"
   ]
  },
  {
   "cell_type": "code",
   "execution_count": 62,
   "metadata": {
    "cell_id": "00010-49ef53a2-3885-4e35-99a1-cd5d86e20ac3",
    "deepnote_cell_type": "code",
    "execution_millis": 1,
    "execution_start": 1607690017790,
    "output_cleared": false,
    "source_hash": "b623e53d",
    "tags": []
   },
   "outputs": [],
   "source": []
  },
  {
   "cell_type": "code",
   "execution_count": null,
   "metadata": {
    "cell_id": "00011-d977df35-5b3b-4544-91b8-9f4e4b9ac75b",
    "deepnote_cell_type": "code",
    "tags": []
   },
   "outputs": [],
   "source": []
  },
  {
   "cell_type": "code",
   "execution_count": 153,
   "metadata": {
    "cell_id": "00012-b6afcf96-a24c-46b7-bbd8-6c2dda92b175",
    "deepnote_cell_type": "code",
    "execution_millis": 2,
    "execution_start": 1607699917095,
    "output_cleared": false,
    "source_hash": "b623e53d",
    "tags": []
   },
   "outputs": [],
   "source": []
  }
 ],
 "metadata": {
  "deepnote_execution_queue": [],
  "deepnote_notebook_id": "38c05f69-f2b3-4ac8-9ee1-685d975febad",
  "kernelspec": {
   "display_name": "Python 3",
   "language": "python",
   "name": "python3"
  },
  "language_info": {
   "codemirror_mode": {
    "name": "ipython",
    "version": 3
   },
   "file_extension": ".py",
   "mimetype": "text/x-python",
   "name": "python",
   "nbconvert_exporter": "python",
   "pygments_lexer": "ipython3",
   "version": "3.8.5"
  }
 },
 "nbformat": 4,
 "nbformat_minor": 2
}
